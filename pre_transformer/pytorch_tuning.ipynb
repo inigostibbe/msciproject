{
 "cells": [
  {
   "cell_type": "code",
   "execution_count": 1,
   "metadata": {},
   "outputs": [],
   "source": [
    "import matplotlib.pyplot as plt\n",
    "# import dataprep # this not working\n",
    "import pandas as pd\n",
    "import numpy as np\n",
    "    \n",
    "# # Import the data\n",
    "# signal_data = pd.read_hdf(\"/dice/projects/CMS/Hinv/datasets_for_ml_training/ttH/df_ml_inputs.hd5\")\n",
    "# background_data = pd.read_hdf(\"/dice/projects/CMS/Hinv/datasets_for_ml_training/ttBar/df_ml_inputs.hd5\")\n",
    "\n",
    "signal_data = pd.read_parquet('/cephfs/dice/projects/CMS/Hinv/ml_datasets_ul/UL2018_ml_inputs/ttH_HToInvisible_M125.parquet')\n",
    "background_data_data = pd.read_parquet('/cephfs/dice/projects/CMS/Hinv/ml_datasets_ul/UL2018_ml_inputs/TTToSemiLeptonic.parquet')\n",
    "\n",
    "\n",
    "def prep(signal_data, background_data):\n",
    "\n",
    "    import pandas as pd\n",
    "    import numpy as np\n",
    "\n",
    "    # Remove nan values\n",
    "    signal_data = signal_data.dropna()\n",
    "    background_data = background_data.dropna()\n",
    "\n",
    "    # Remove regions 1-5 as they contain data not suitable for training\n",
    "    # signal_data = signal_data[~signal_data.region.isin([1, 2, 3, 4, 5])]\n",
    "    # background_data = background_data[~background_data.region.isin([1, 2, 3, 4, 5])]\n",
    "\n",
    "    signal_data = signal_data[signal_data.region == 0]\n",
    "    background_data = background_data[background_data.region == 0]\n",
    "\n",
    "\n",
    "    # Adding in balance weights \n",
    "\n",
    "    signal_data['weight_balance'] = len(background_data) / len(signal_data)\n",
    "    background_data['weight_balance'] = 1\n",
    "\n",
    "    # Combine data + add feautures\n",
    "    signal_data['target'] = 1\n",
    "    background_data['target'] = 0\n",
    "    data = pd.concat([signal_data, background_data])\n",
    "\n",
    "    # Creation of additional useful features found from 'investigatingjets.ipynb'\n",
    "    # cleanedJet_eta_std, cleanedJet_eta_range, cleadJet_phi_std, cleanedJet_phi_range\n",
    "\n",
    "    data['cleanedJet_eta_std'] = data['cleanedJet_eta'].apply(lambda x: np.std(x))\n",
    "    data['cleanedJet_eta_range'] = data['cleanedJet_eta'].apply(lambda x: np.max(x) - np.min(x))\n",
    "    data['cleanedJet_phi_std'] = data['cleanedJet_phi'].apply(lambda x: np.std(x))\n",
    "    data['cleanedJet_phi_range'] = data['cleanedJet_phi'].apply(lambda x: np.max(x) - np.min(x))\n",
    "\n",
    "    return data\n",
    "\n",
    "data = prep(signal_data, background_data)\n",
    "\n",
    "# List of variables to use for training\n",
    "features = ['DiJet_mass', 'HT', 'InputMet_InputJet_mindPhi',\n",
    "       'InputMet_pt', 'MHT_pt', 'MinChi',\n",
    "       'MinOmegaHat', 'MinOmegaTilde', 'cleanedJet_eta_std', 'cleanedJet_eta_range',\n",
    "       'cleanedJet_phi_range', 'cleanedJet_phi_std', 'ldphi_bjet',\n",
    "       'ldphi_jet', 'ncleanedBJet', 'ncleanedJet', 'region', 'sdphi_bjet',\n",
    "       'sdphi_jet']\n",
    "\n",
    "weights_copy = data['weight_nominal'].copy() # Use this one for saving the weights when balancing by adding weight_balance\n",
    "\n",
    "# Use 30% of the data\n",
    "\n",
    "from sklearn.model_selection import train_test_split\n",
    "\n",
    "train, test = train_test_split(data, test_size=0.3, random_state=42)\n",
    "\n",
    "# Normalise the data\n",
    "\n",
    "data = train.copy()"
   ]
  },
  {
   "cell_type": "markdown",
   "metadata": {},
   "source": [
    "### Model and training"
   ]
  },
  {
   "cell_type": "code",
   "execution_count": 4,
   "metadata": {},
   "outputs": [
    {
     "name": "stderr",
     "output_type": "stream",
     "text": [
      "[I 2024-11-12 10:54:52,410] A new study created in memory with name: no-name-e149c333-aaa0-4292-9cba-f82540f42a47\n",
      "[I 2024-11-12 10:58:25,971] Trial 3 finished with value: 0.6994899142303871 and parameters: {'n_layers': 1, 'n_neurons': 16, 'lr': 0.003740197770163659}. Best is trial 3 with value: 0.6994899142303871.\n"
     ]
    },
    {
     "name": "stdout",
     "output_type": "stream",
     "text": [
      "0.6994899142303871\n"
     ]
    },
    {
     "name": "stderr",
     "output_type": "stream",
     "text": [
      "[I 2024-11-12 10:58:46,144] Trial 1 finished with value: 0.6944837926655789 and parameters: {'n_layers': 1, 'n_neurons': 48, 'lr': 0.0003277943720259822}. Best is trial 1 with value: 0.6944837926655789.\n"
     ]
    },
    {
     "name": "stdout",
     "output_type": "stream",
     "text": [
      "0.6944837926655789\n"
     ]
    },
    {
     "name": "stderr",
     "output_type": "stream",
     "text": [
      "[I 2024-11-12 11:01:37,742] Trial 0 finished with value: 0.6896014258767584 and parameters: {'n_layers': 3, 'n_neurons': 48, 'lr': 0.0003702837960116371}. Best is trial 0 with value: 0.6896014258767584.\n"
     ]
    },
    {
     "name": "stdout",
     "output_type": "stream",
     "text": [
      "0.6896014258767584\n"
     ]
    },
    {
     "name": "stderr",
     "output_type": "stream",
     "text": [
      "[I 2024-11-12 11:02:09,212] Trial 2 finished with value: 0.6920667622481261 and parameters: {'n_layers': 3, 'n_neurons': 96, 'lr': 0.00020834200552320687}. Best is trial 0 with value: 0.6896014258767584.\n"
     ]
    },
    {
     "name": "stdout",
     "output_type": "stream",
     "text": [
      "0.6920667622481261\n"
     ]
    },
    {
     "name": "stderr",
     "output_type": "stream",
     "text": [
      "[I 2024-11-12 11:04:26,490] Trial 4 finished with value: 0.6881222872142287 and parameters: {'n_layers': 2, 'n_neurons': 80, 'lr': 0.03392254943911601}. Best is trial 4 with value: 0.6881222872142287.\n"
     ]
    },
    {
     "name": "stdout",
     "output_type": "stream",
     "text": [
      "0.6881222872142287\n"
     ]
    },
    {
     "name": "stderr",
     "output_type": "stream",
     "text": [
      "[I 2024-11-12 11:05:12,709] Trial 5 finished with value: 0.6889446935392811 and parameters: {'n_layers': 3, 'n_neurons': 16, 'lr': 0.007302560398985652}. Best is trial 4 with value: 0.6881222872142287.\n"
     ]
    },
    {
     "name": "stdout",
     "output_type": "stream",
     "text": [
      "0.6889446935392811\n"
     ]
    },
    {
     "name": "stderr",
     "output_type": "stream",
     "text": [
      "[I 2024-11-12 11:10:58,395] Trial 8 finished with value: 0.6962254913730724 and parameters: {'n_layers': 1, 'n_neurons': 112, 'lr': 0.0003677650460875217}. Best is trial 4 with value: 0.6881222872142287.\n"
     ]
    },
    {
     "name": "stdout",
     "output_type": "stream",
     "text": [
      "0.6962254913730724\n"
     ]
    },
    {
     "name": "stderr",
     "output_type": "stream",
     "text": [
      "[I 2024-11-12 11:11:32,643] Trial 7 finished with value: 0.6871867711148671 and parameters: {'n_layers': 2, 'n_neurons': 128, 'lr': 0.0019704280928992406}. Best is trial 7 with value: 0.6871867711148671.\n"
     ]
    },
    {
     "name": "stdout",
     "output_type": "stream",
     "text": [
      "0.6871867711148671\n"
     ]
    },
    {
     "name": "stderr",
     "output_type": "stream",
     "text": [
      "[I 2024-11-12 11:12:50,091] Trial 6 finished with value: 0.6869705443579186 and parameters: {'n_layers': 3, 'n_neurons': 32, 'lr': 0.014567215281793241}. Best is trial 6 with value: 0.6869705443579186.\n"
     ]
    },
    {
     "name": "stdout",
     "output_type": "stream",
     "text": [
      "0.6869705443579186\n"
     ]
    },
    {
     "name": "stderr",
     "output_type": "stream",
     "text": [
      "[I 2024-11-12 11:20:15,805] Trial 9 finished with value: 0.6879358446946243 and parameters: {'n_layers': 3, 'n_neurons': 80, 'lr': 0.0013239685661535362}. Best is trial 6 with value: 0.6869705443579186.\n"
     ]
    },
    {
     "name": "stdout",
     "output_type": "stream",
     "text": [
      "0.6879358446946243\n"
     ]
    },
    {
     "name": "stderr",
     "output_type": "stream",
     "text": [
      "[I 2024-11-12 11:21:14,976] Trial 10 finished with value: 0.6883603074269656 and parameters: {'n_layers': 2, 'n_neurons': 112, 'lr': 0.03102460414680501}. Best is trial 6 with value: 0.6869705443579186.\n"
     ]
    },
    {
     "name": "stdout",
     "output_type": "stream",
     "text": [
      "0.6883603074269656\n"
     ]
    },
    {
     "name": "stderr",
     "output_type": "stream",
     "text": [
      "[I 2024-11-12 11:21:22,609] Trial 11 finished with value: 0.6934099245168803 and parameters: {'n_layers': 3, 'n_neurons': 16, 'lr': 0.000463378688503421}. Best is trial 6 with value: 0.6869705443579186.\n"
     ]
    },
    {
     "name": "stdout",
     "output_type": "stream",
     "text": [
      "0.6934099245168803\n",
      "Best hyperparameters: {'n_layers': 3, 'n_neurons': 32, 'lr': 0.014567215281793241}\n"
     ]
    }
   ],
   "source": [
    "import torch\n",
    "import torch.nn as nn\n",
    "import torch.optim as optim\n",
    "from torch.utils.data import DataLoader, TensorDataset\n",
    "from sklearn.model_selection import train_test_split\n",
    "from sklearn.preprocessing import StandardScaler\n",
    "import matplotlib.pyplot as plt\n",
    "import optuna\n",
    "\n",
    "# Standardize the features\n",
    "scaler = StandardScaler()\n",
    "data[features] = scaler.fit_transform(data[features])\n",
    "\n",
    "# Convert data to PyTorch tensors\n",
    "X = torch.tensor(data[features].values, dtype=torch.float32)\n",
    "y = torch.tensor(data['target'].values, dtype=torch.float32)  # For BCE loss, use float labels\n",
    "weights_nominal = torch.tensor(data['weight_nominal'].values, dtype=torch.float32)\n",
    "weights_balance = torch.tensor(data['weight_balance'].values, dtype=torch.float32)\n",
    "\n",
    "# Split data into training+validation and test sets (80/20)\n",
    "X_train_val, X_test, y_train_val, y_test, wn_train_val, wn_test, wb_train_val, wb_test = train_test_split(X, y, weights_nominal, weights_balance, test_size=0.2, random_state=42)\n",
    "\n",
    "# Further split the training data into train and validation sets (80/20 of 80%)\n",
    "X_train, X_val, y_train, y_val, wn_train, wn_val, wb_train, wb_val  = train_test_split(X_train_val, y_train_val, wn_train_val, wb_train_val, test_size=0.2, random_state=42)\n",
    "\n",
    "# Create DataLoaders for each set\n",
    "train_loader = DataLoader(TensorDataset(X_train, y_train, wn_train, wb_train), batch_size=64, shuffle=True)\n",
    "val_loader = DataLoader(TensorDataset(X_val, y_val, wn_val, wb_val), batch_size=64, shuffle=False)\n",
    "test_loader = DataLoader(TensorDataset(X_test, y_test, wn_test, wb_test), batch_size=64, shuffle=False)\n",
    "\n",
    "# Define the model\n",
    "n_features = len(features)\n",
    "\n",
    "def objective(trial):\n",
    "    # Suggest values for hyperparameters\n",
    "    n_layers = trial.suggest_int('n_layers', 1, 3)  # Example: 1 to 3 layers\n",
    "    n_neurons = trial.suggest_int('n_neurons', 16, 128, step=16)  # Neurons per layer\n",
    "    lr = trial.suggest_categorical('lr', [0.05, 0.01, 0.005, 0.001])\n",
    "\n",
    "    # Define the model with suggested hyperparameters\n",
    "    class SimpleNN(nn.Module):\n",
    "        def __init__(self):\n",
    "            super(SimpleNN, self).__init__()\n",
    "            layers = [nn.Linear(n_features, n_neurons), nn.BatchNorm1d(n_neurons)]\n",
    "            \n",
    "            for _ in range(n_layers - 1):\n",
    "                layers.append(nn.Linear(n_neurons, n_neurons))\n",
    "                layers.append(nn.BatchNorm1d(n_neurons))\n",
    "\n",
    "            layers.append(nn.Linear(n_neurons, 1))\n",
    "            self.layers = nn.ModuleList(layers)\n",
    "\n",
    "        def forward(self, x):\n",
    "            for layer in self.layers[:-1]:\n",
    "                x = torch.relu(layer(x))\n",
    "            x = self.layers[-1](x)\n",
    "            return x\n",
    "\n",
    "    model = SimpleNN()\n",
    "\n",
    "    # Loss and optimizer\n",
    "    criterion = nn.BCEWithLogitsLoss(reduction=\"none\")\n",
    "    optimizer = optim.Adam(model.parameters(), lr=lr)\n",
    "\n",
    "    # Training parameters\n",
    "    n_epochs = 10  # Keep epochs low for tuning to save time\n",
    "    train_losses = []\n",
    "\n",
    "    # Training loop\n",
    "    for epoch in range(n_epochs):\n",
    "        model.train()\n",
    "        running_train_loss = 0.0\n",
    "        for batch_x, batch_y, batch_wn, batch_wb in train_loader:\n",
    "            optimizer.zero_grad()\n",
    "            outputs = model(batch_x)\n",
    "            batch_y = batch_y.view(-1, 1)\n",
    "            loss = criterion(outputs, batch_y)\n",
    "            weighted_loss = (loss * batch_wb).mean()\n",
    "            weighted_loss.backward()\n",
    "            optimizer.step()\n",
    "            running_train_loss += weighted_loss.item() * batch_x.size(0)\n",
    "\n",
    "        # Calculate average loss per epoch\n",
    "        epoch_train_loss = running_train_loss / len(train_loader.dataset)\n",
    "        train_losses.append(epoch_train_loss)\n",
    "\n",
    "    # Validation phase (to get the final validation loss as the metric)\n",
    "    model.eval()\n",
    "    running_val_loss = 0.0\n",
    "    with torch.no_grad():\n",
    "        for batch_x, batch_y, batch_wn, batch_wb in val_loader:\n",
    "            outputs = model(batch_x)\n",
    "            batch_y = batch_y.view(-1, 1)\n",
    "            val_loss = criterion(outputs, batch_y)\n",
    "            weighted_val_loss = (val_loss * batch_wb).mean()\n",
    "            running_val_loss += weighted_val_loss.item() * batch_x.size(0)\n",
    "\n",
    "    epoch_val_loss = running_val_loss / len(val_loader.dataset)\n",
    "\n",
    "    print(epoch_val_loss)\n",
    "\n",
    "    return epoch_val_loss  # Optuna will try to minimize this\n",
    "\n",
    "study = optuna.create_study(direction=\"minimize\")\n",
    "study.optimize(objective, n_trials=12, n_jobs = 4)  # Try 20 different combinations of hyperparameters\n",
    "\n",
    "# Print the best parameters\n",
    "print(\"Best hyperparameters:\", study.best_params)\n"
   ]
  },
  {
   "cell_type": "markdown",
   "metadata": {},
   "source": [
    "### Evalution of model"
   ]
  },
  {
   "cell_type": "code",
   "execution_count": 3,
   "metadata": {},
   "outputs": [
    {
     "ename": "NameError",
     "evalue": "name 'model' is not defined",
     "output_type": "error",
     "traceback": [
      "\u001b[0;31m---------------------------------------------------------------------------\u001b[0m",
      "\u001b[0;31mNameError\u001b[0m                                 Traceback (most recent call last)",
      "Cell \u001b[0;32mIn[3], line 7\u001b[0m\n\u001b[1;32m      4\u001b[0m \u001b[38;5;28;01mimport\u001b[39;00m \u001b[38;5;21;01mmatplotlib\u001b[39;00m\u001b[38;5;21;01m.\u001b[39;00m\u001b[38;5;21;01mpyplot\u001b[39;00m \u001b[38;5;28;01mas\u001b[39;00m \u001b[38;5;21;01mplt\u001b[39;00m\n\u001b[1;32m      6\u001b[0m \u001b[38;5;66;03m# Set the model to evaluation mode\u001b[39;00m\n\u001b[0;32m----> 7\u001b[0m \u001b[43mmodel\u001b[49m\u001b[38;5;241m.\u001b[39meval()\n\u001b[1;32m      9\u001b[0m \u001b[38;5;66;03m# Collect all predictions and true labels\u001b[39;00m\n\u001b[1;32m     10\u001b[0m all_outputs \u001b[38;5;241m=\u001b[39m []\n",
      "\u001b[0;31mNameError\u001b[0m: name 'model' is not defined"
     ]
    }
   ],
   "source": [
    "import torch\n",
    "import numpy as np\n",
    "from sklearn.metrics import roc_curve, auc\n",
    "import matplotlib.pyplot as plt\n",
    "\n",
    "# Set the model to evaluation mode\n",
    "model.eval()\n",
    "\n",
    "# Collect all predictions and true labels\n",
    "all_outputs = []\n",
    "all_labels = []\n",
    "\n",
    "with torch.no_grad():\n",
    "    for batch_x, batch_y, batch_wn, batch_wb in test_loader:\n",
    "        # Get model outputs (logits if using BCEWithLogitsLoss)\n",
    "        outputs = model(batch_x)\n",
    "        \n",
    "        # Apply sigmoid if necessary to get probabilities\n",
    "        probs = torch.sigmoid(outputs).numpy()  # Convert to numpy for compatibility\n",
    "        all_outputs.extend(probs)\n",
    "        all_labels.extend(batch_y.numpy())\n",
    "\n",
    "# Convert lists to numpy arrays\n",
    "all_outputs = np.array(all_outputs).flatten()  # Flatten to a 1D array\n",
    "print(all_outputs)\n",
    "all_labels = np.array(all_labels)\n",
    "\n",
    "# Calculate ROC curve\n",
    "fpr, tpr, thresholds = roc_curve(all_labels, all_outputs)\n",
    "roc_auc = auc(fpr, tpr)\n",
    "\n",
    "# Plot ROC curve\n",
    "plt.figure()\n",
    "plt.plot(fpr, tpr, color=\"darkorange\", label=f\"ROC curve (area = {roc_auc:.4f})\")\n",
    "plt.plot([0, 1], [0, 1], color=\"navy\", linestyle=\"--\")  # Diagonal line for random performance\n",
    "plt.xlabel(\"False Positive Rate\")\n",
    "plt.ylabel(\"True Positive Rate\")\n",
    "plt.title(\"Receiver Operating Characteristic (ROC) Curve\")\n",
    "plt.legend(loc=\"lower right\")\n",
    "plt.show()\n"
   ]
  },
  {
   "cell_type": "code",
   "execution_count": 6,
   "metadata": {},
   "outputs": [
    {
     "data": {
      "text/plain": [
       "==========================================================================================\n",
       "Layer (type:depth-idx)                   Output Shape              Param #\n",
       "==========================================================================================\n",
       "SimpleNN                                 [32, 1]                   --\n",
       "├─ModuleList: 1-1                        --                        --\n",
       "│    └─Linear: 2-1                       [32, 32]                  640\n",
       "│    └─BatchNorm1d: 2-2                  [32, 32]                  64\n",
       "│    └─Linear: 2-3                       [32, 32]                  1,056\n",
       "│    └─BatchNorm1d: 2-4                  [32, 32]                  64\n",
       "│    └─Linear: 2-5                       [32, 32]                  1,056\n",
       "│    └─BatchNorm1d: 2-6                  [32, 32]                  64\n",
       "│    └─Linear: 2-7                       [32, 1]                   33\n",
       "==========================================================================================\n",
       "Total params: 2,977\n",
       "Trainable params: 2,977\n",
       "Non-trainable params: 0\n",
       "Total mult-adds (Units.MEGABYTES): 0.10\n",
       "==========================================================================================\n",
       "Input size (MB): 0.00\n",
       "Forward/backward pass size (MB): 0.05\n",
       "Params size (MB): 0.01\n",
       "Estimated Total Size (MB): 0.06\n",
       "=========================================================================================="
      ]
     },
     "execution_count": 6,
     "metadata": {},
     "output_type": "execute_result"
    }
   ],
   "source": [
    "from torchinfo import summary\n",
    "summary(model, input_size=(32, n_features))  # Replace 64 with your batch size\n"
   ]
  },
  {
   "cell_type": "markdown",
   "metadata": {},
   "source": [
    "### Histogram output plots"
   ]
  },
  {
   "cell_type": "code",
   "execution_count": 7,
   "metadata": {},
   "outputs": [
    {
     "data": {
      "image/png": "[encoded data removed]",
      "text/plain": [
       "<Figure size 640x480 with 1 Axes>"
      ]
     },
     "metadata": {},
     "output_type": "display_data"
    },
    {
     "data": {
      "image/png": "[encoded data removed]",
      "text/plain": [
       "<Figure size 640x480 with 1 Axes>"
      ]
     },
     "metadata": {},
     "output_type": "display_data"
    },
    {
     "data": {
      "image/png": "[encoded data removed]",
      "text/plain": [
       "<Figure size 640x480 with 1 Axes>"
      ]
     },
     "metadata": {},
     "output_type": "display_data"
    }
   ],
   "source": [
    "# Plot a hisogram of the model outputs for signal and background\n",
    "model.eval()\n",
    "\n",
    "# Collect all predictions and true labels\n",
    "\n",
    "all_outputs = []\n",
    "all_labels = []\n",
    "\n",
    "with torch.no_grad():\n",
    "    for batch_x, batch_y, batch_wn, batch_wb in test_loader:\n",
    "        # Get model outputs (logits if using BCEWithLogitsLoss)\n",
    "        outputs = model(batch_x)\n",
    "        \n",
    "        # Apply sigmoid if necessary to get probabilities\n",
    "        probs = torch.sigmoid(outputs).numpy()  # Convert to numpy for compatibility\n",
    "        all_outputs.extend(probs)\n",
    "        all_labels.extend(batch_y.numpy())\n",
    "\n",
    "# Convert lists to numpy arrays\n",
    "\n",
    "all_outputs = np.array(all_outputs).flatten()  # Flatten to a 1D array\n",
    "all_labels = np.array(all_labels)\n",
    "\n",
    "# Plot the model outputs for signal and background\n",
    "\n",
    "plt.hist(all_outputs[all_labels == 0], bins=50, range=(0, 1),alpha = 0.7, label='Background', color='b')\n",
    "plt.hist(all_outputs[all_labels == 1], bins=50, range=(0, 1),alpha = 0.7, label='Signal', color='r')\n",
    "plt.axvline(x=0.5, color='green', linestyle='--', linewidth=2, label='x = 0.5')\n",
    "plt.xlabel('Model Output')\n",
    "plt.ylabel('Density')\n",
    "plt.title(\"Unnormalised\")\n",
    "plt.legend()\n",
    "plt.show()\n",
    "\n",
    "plt.hist(all_outputs[all_labels == 0], bins=50, range=(0, 1),alpha = 0.7, label='Background', density='true', color='b')\n",
    "plt.hist(all_outputs[all_labels == 1], bins=50, range=(0, 1),alpha = 0.7, label='Signal', density='true', color='r')\n",
    "plt.axvline(x=0.5, color='green', linestyle='--', linewidth=2, label='x = 0.5')\n",
    "plt.xlabel('Model Output')\n",
    "plt.ylabel('Density')\n",
    "plt.title(\"Normalised area\")\n",
    "plt.legend()\n",
    "plt.show()\n",
    "\n",
    "plt.hist(all_outputs[all_labels == 0], bins=50, range=(0, 1),alpha = 0.7, label='Background', weights=wn_test[all_labels == 0]*200000, color='b')\n",
    "plt.hist(all_outputs[all_labels == 1], bins=50, range=(0, 1), label='Signal',  weights=wn_test[all_labels == 1]*200000, color='r')\n",
    "plt.axvline(x=0.5, color='green', linestyle='--', linewidth=2, label='x = 0.5')\n",
    "plt.xlabel('Model Output')\n",
    "plt.ylabel('Density')\n",
    "plt.title(\"Normalised weights\")\n",
    "plt.legend()\n",
    "plt.show()"
   ]
  },
  {
   "cell_type": "code",
   "execution_count": 8,
   "metadata": {},
   "outputs": [
    {
     "name": "stderr",
     "output_type": "stream",
     "text": [
      "/tmp/ipykernel_743624/3333641786.py:2: DeprecationWarning: __array__ implementation doesn't accept a copy keyword, so passing copy=False failed. __array__ must implement 'dtype' and 'copy' keyword arguments.\n",
      "  wn_test_array = np.array(wn_test*200000)\n"
     ]
    },
    {
     "data": {
      "image/png": "[encoded data removed]",
      "text/plain": [
       "<Figure size 640x480 with 1 Axes>"
      ]
     },
     "metadata": {},
     "output_type": "display_data"
    }
   ],
   "source": [
    "# Assume w_test is the array of weights for each sample in the test set\n",
    "wn_test_array = np.array(wn_test*200000)\n",
    "\n",
    "# Define thresholds between 0 and 1\n",
    "thresholds = np.linspace(0, 1, 100)\n",
    "z_scores = []\n",
    "\n",
    "# Calculate the Z-score for each threshold using weights\n",
    "for threshold in thresholds:\n",
    "    # Weighted count of signal predictions above the threshold\n",
    "    S = np.sum(wn_test_array[(all_outputs > threshold) & (all_labels == 1)])  # Weighted Signal\n",
    "    B = np.sum(wn_test_array[(all_outputs > threshold) & (all_labels == 0)])  # Weighted Background\n",
    "\n",
    "    # Calculate Z-score (add small epsilon to avoid division by zero)\n",
    "    if S + B > 0:\n",
    "        Z = S / np.sqrt(S + B + 1e-10)  # 1e-10 to avoid division by zero\n",
    "    else:\n",
    "        Z = 0  # Define Z as 0 if S + B is 0\n",
    "\n",
    "    z_scores.append(Z)\n",
    "\n",
    "# Plot Z-score vs. Threshold\n",
    "plt.plot(thresholds, z_scores, label=\"Z-score\")\n",
    "plt.xlabel(\"Threshold\")\n",
    "plt.ylabel(\"Z-score\")\n",
    "plt.title(\"Z-score vs. Threshold\")\n",
    "plt.legend()\n",
    "plt.grid()\n",
    "plt.show()\n"
   ]
  },
  {
   "cell_type": "code",
   "execution_count": null,
   "metadata": {},
   "outputs": [],
   "source": []
  },
  {
   "cell_type": "code",
   "execution_count": null,
   "metadata": {},
   "outputs": [],
   "source": []
  }
 ],
 "metadata": {
  "kernelspec": {
   "display_name": "hinv-ml",
   "language": "python",
   "name": "python3"
  },
  "language_info": {
   "codemirror_mode": {
    "name": "ipython",
    "version": 3
   },
   "file_extension": ".py",
   "mimetype": "text/x-python",
   "name": "python",
   "nbconvert_exporter": "python",
   "pygments_lexer": "ipython3",
   "version": "3.12.8"
  }
 },
 "nbformat": 4,
 "nbformat_minor": 2
}
